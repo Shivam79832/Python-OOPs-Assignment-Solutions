{
  "nbformat": 4,
  "nbformat_minor": 0,
  "metadata": {
    "colab": {
      "provenance": []
    },
    "kernelspec": {
      "name": "python3",
      "display_name": "Python 3"
    },
    "language_info": {
      "name": "python"
    }
  },
  "cells": [
    {
      "cell_type": "markdown",
      "source": [
        "### 1. What is Object-Oriented Programming (OOP)?\n",
        "OOP is a programming paradigm that organizes software design around objects rather than functions and logic. It focuses on creating reusable code through concepts like classes, objects, inheritance, encapsulation, and polymorphism.\n"
      ],
      "metadata": {
        "id": "mQUqCy08YmYC"
      }
    },
    {
      "cell_type": "markdown",
      "source": [
        "2. What is a class in OOP?\n",
        "A class is a blueprint or template for creating objects. It defines the attributes (data) and methods (functions) that the objects created from the class will have."
      ],
      "metadata": {
        "id": "tuNVZGJ-Yudj"
      }
    },
    {
      "cell_type": "markdown",
      "source": [
        "3. What is an object in OOP?\n",
        "An object is an instance of a class. \"\"It iss a self-contained component that contains properties (attributes) and behaviors (methods) defined by its class."
      ],
      "metadata": {
        "id": "cs3rNlOeYuNL"
      }
    },
    {
      "cell_type": "markdown",
      "source": [
        "4. What is the difference between abstraction and encapsulation?\n",
        "- Abstraction focuses on hiding complex implementation details and showing only essential features.\n",
        "- Encapsulation is about bundling data and methods that operate on that data within a single unit (class) and restricting access to some components."
      ],
      "metadata": {
        "id": "QI4ulxtfYmVL"
      }
    },
    {
      "cell_type": "markdown",
      "source": [
        "5. What are dunder methods in Python?\n",
        "Dunder methods (double underscore methods) are special methods in Python that start and end with double underscores (e.g., `__init__`, `__str__`). They allow classes to implement operator overloading and other special behaviors."
      ],
      "metadata": {
        "id": "zQFPY2sCYmSD"
      }
    },
    {
      "cell_type": "markdown",
      "source": [
        "6. Explain the concept of inheritance in OOP.\n",
        "Inheritance allows a class (child/derived class) to inherit attributes and methods from another class (parent/base class). It promotes code reusability and establishes a hierarchical relationship between classes."
      ],
      "metadata": {
        "id": "fvO6OB6vYmPD"
      }
    },
    {
      "cell_type": "markdown",
      "source": [
        "7. What is polymorphism in OOP?\n",
        "Polymorphism means \"many forms\". It allows objects of different classes to be treated as objects of a common superclass, typically through method overriding or method overloading."
      ],
      "metadata": {
        "id": "Oi4VWF35YmMD"
      }
    },
    {
      "cell_type": "markdown",
      "source": [
        " 8. How is encapsulation achieved in Python?\n",
        "Encapsulation in Python is achieved by:\n",
        "- Using private variables (prefix with `_` or `__`)\n",
        "- Using getter and setter methods\n",
        "- Using property decorators"
      ],
      "metadata": {
        "id": "KXvUF0fTYmJD"
      }
    },
    {
      "cell_type": "markdown",
      "source": [
        "9. What is a constructor in Python?\n",
        "A constructor is a special method (`__init__`) that s automatically called when an object is created. It's used to initialize the object's attributes.\n"
      ],
      "metadata": {
        "id": "o9vlZXlOYmFj"
      }
    },
    {
      "cell_type": "markdown",
      "source": [
        "10. What are class and static methods in Python?\n",
        "- Class methods: Methods bound to the class rather than the object instance. Defined with `@classmethod` decorator and take `cls` as first parameter.\n",
        "- Static methods: Methods that don't operate on instance or class data. Defined with `@staticmethod` decorator and don't take `self` or `cls` parameters.\n"
      ],
      "metadata": {
        "id": "IZpjV5udYlv7"
      }
    },
    {
      "cell_type": "markdown",
      "source": [
        "11. What is method overloading in Python?\n",
        "Python doesn't support traditional method overloading (multiple methods with same name but different parameters). However, we can simulate it using default arguments or variable-length arguments."
      ],
      "metadata": {
        "id": "9MSS5gDcZMcK"
      }
    },
    {
      "cell_type": "markdown",
      "source": [
        "12. What is method overriding in OOP?\n",
        "Method overriding occurs when a child class provides a specific implementation of a method that is already defined in its parent class."
      ],
      "metadata": {
        "id": "Kn-iml94ZMY6"
      }
    },
    {
      "cell_type": "markdown",
      "source": [
        "13. What is a property decorator in Python?\n",
        "The `@property` decorator allows a method to be accessed like an attribute, providing a way to implement getters, setters, and deleters for class attributes."
      ],
      "metadata": {
        "id": "y4ZH-1opZMOC"
      }
    },
    {
      "cell_type": "markdown",
      "source": [
        "14. Why is polymorphism important in OOP?\n",
        "Polymorphism allows for:\n",
        "- Code flexibility and extensibility\n",
        "- More readable and maintainable code\n",
        "- Ability to use a single interface for different data types\n",
        "- Implementation of method overriding"
      ],
      "metadata": {
        "id": "gSkDG_kcZMKb"
      }
    },
    {
      "cell_type": "markdown",
      "source": [
        "15. What is an abstract class in Python?\n",
        "An abstract class is a class that cannot be instantiated and is meant to be subclassed. It contains one or more abstract methods that must be implemented by its subclasses. In Python, we use the `abc` module to create abstract classes."
      ],
      "metadata": {
        "id": "DQPpt4uUZMGz"
      }
    },
    {
      "cell_type": "markdown",
      "source": [
        "16. What are the advantages of OOP?\n",
        "- Modularity for easier maintenance\n",
        "- Reusability through inheritance\n",
        "- Flexibility through polymorphism\n",
        "- Effective problem solving\n",
        "- Data hiding/security through encapsulation\n",
        "- Better code organization\n"
      ],
      "metadata": {
        "id": "ywYjuBYPZMBC"
      }
    },
    {
      "cell_type": "markdown",
      "source": [
        "17. What is the difference between a class variable and an instance variable?\n",
        "- Class variable: Shared by all instances of the class. Defined within the class but outside any methods.\n",
        "- Instance variable: Unique to each instance. Defined inside methods (usually `__init__`).\n"
      ],
      "metadata": {
        "id": "f7ec8bddZL5z"
      }
    },
    {
      "cell_type": "markdown",
      "source": [
        "18. What is multiple inheritance in Python?\n",
        "Multiple inheritance allows a class to inherit from more than one parent class. Python supports this feature, though it can lead to complexity (the \"diamond problem\")."
      ],
      "metadata": {
        "id": "pboUztMIZxwS"
      }
    },
    {
      "cell_type": "markdown",
      "source": [
        "19. Explain the purpose of \"__str__\" and \"__repr__\" methods in Python.\n",
        "- `__str__`: Returns a human-readable string representation of the object (for end users).\n",
        "- `__repr__`: Returns an unambiguous string representation of the object (for developers, often used for debugging)."
      ],
      "metadata": {
        "id": "kAOADRYcZxnC"
      }
    },
    {
      "cell_type": "markdown",
      "source": [
        "20. What is the significance of the 'super()' function in Python?\n",
        "`super()` returns a temporary object of the superclass, allowing you to call its methods. It's commonly used to:\n",
        "- Access parent class methods in inheritance\n",
        "- Avoid hardcoding the parent class name\n",
        "- Handle multiple inheritance properly\n"
      ],
      "metadata": {
        "id": "OhTj2f3XZLtj"
      }
    },
    {
      "cell_type": "markdown",
      "source": [
        "21. What is the significance of the __del__ method in Python?\n",
        "`__del__` is a destructor method called when an object is about to be destroyed. It's used to perform cleanup operations before the object is garbage collected."
      ],
      "metadata": {
        "id": "dxE9OFypZ9RS"
      }
    },
    {
      "cell_type": "markdown",
      "source": [
        " 22. What is the difference between @staticmethod and @classmethod in Python?\n",
        "- `@staticmethod`: Doesn't receive any implicit first argument (no `self` or `cls`). It's like a regular function but belongs to the class's namespace.\n",
        "- `@classmethod`: Receives the class as implicit first argument (`cls`). Can access and modify class state.\n"
      ],
      "metadata": {
        "id": "iM6-j2GgZ9JD"
      }
    },
    {
      "cell_type": "markdown",
      "source": [
        "23. How does polymorphism work in Python with inheritance?\n",
        "In Python, polymorphism with inheritance works through method overriding - child classes can provide their own implementation of methods defined in parent classes. The same method name can behave differently based on which object calls it."
      ],
      "metadata": {
        "id": "vHEmvxzSZ8VL"
      }
    },
    {
      "cell_type": "markdown",
      "source": [
        "24. What is method chaining in Python OOP?\n",
        "Method chaining is a technique where multiple methods are called on the same object in a single statement. Each method returns the object itself (or another object), allowing the calls to be chained together.\n"
      ],
      "metadata": {
        "id": "oEFxr6qJZ8Ga"
      }
    },
    {
      "cell_type": "markdown",
      "source": [
        "25. What is the purpose of the __call__ method in Python?\n",
        "The `__call__` method allows an instance of a class to be called as a function. When defined, you can use the object like a function (e.g., `obj()`)."
      ],
      "metadata": {
        "id": "zLuAa8oXZ7-i"
      }
    },
    {
      "cell_type": "markdown",
      "source": [],
      "metadata": {
        "id": "cBvgMePyYgmb"
      }
    },
    {
      "cell_type": "code",
      "source": [
        "## Practical Questions\n",
        "\n",
        "# %%\n",
        "### 1. Animal and Dog classes\n",
        "class Animal:\n",
        "    def speak(self):\n",
        "        print(\"Animal makes a sound\")\n",
        "\n",
        "class Dog(Animal):\n",
        "    def speak(self):\n",
        "        print(\"Bark!\")\n",
        "\n",
        "# Test\n",
        "animal = Animal()\n",
        "animal.speak()  # Output: Animal makes a sound\n",
        "\n",
        "dog = Dog()\n",
        "dog.speak()     # Output: Bark!"
      ],
      "metadata": {
        "colab": {
          "base_uri": "https://localhost:8080/"
        },
        "id": "79jCNXSwaa0C",
        "outputId": "c55708bb-78d2-4a8a-d2cd-3d0787da3f29"
      },
      "execution_count": 30,
      "outputs": [
        {
          "output_type": "stream",
          "name": "stdout",
          "text": [
            "Animal makes a sound\n",
            "Bark!\n"
          ]
        }
      ]
    },
    {
      "cell_type": "code",
      "source": [
        "### 2. Abstract Shape class with Circle and Rectangle\n",
        "from abc import ABC, abstractmethod\n",
        "\n",
        "class Shape(ABC):\n",
        "    @abstractmethod\n",
        "    def area(self):\n",
        "        pass\n",
        "\n",
        "class Circle(Shape):\n",
        "    def __init__(self, radius):\n",
        "        self.radius = radius\n",
        "\n",
        "    def area(self):\n",
        "        return 3.14 * self.radius ** 2\n",
        "\n",
        "class Rectangle(Shape):\n",
        "    def __init__(self, length, width):\n",
        "        self.length = length\n",
        "        self.width = width\n",
        "\n",
        "    def area(self):\n",
        "        return self.length * self.width\n",
        "\n",
        "# Test\n",
        "circle = Circle(5)\n",
        "print(\"Circle area:\", circle.area())  # Output: Circle area: 78.5\n",
        "\n",
        "rectangle = Rectangle(4, 6)\n",
        "print(\"Rectangle area:\", rectangle.area())  # Output: Rectangle area: 24\n"
      ],
      "metadata": {
        "colab": {
          "base_uri": "https://localhost:8080/"
        },
        "id": "u-t01SC5aagy",
        "outputId": "eff4aead-e340-41a0-f393-c5bbc57f788c"
      },
      "execution_count": 32,
      "outputs": [
        {
          "output_type": "stream",
          "name": "stdout",
          "text": [
            "Circle area: 78.5\n",
            "Rectangle area: 24\n"
          ]
        }
      ]
    },
    {
      "cell_type": "code",
      "source": [
        "# %%\n",
        "### 3. Multi-level inheritance: Vehicle, Car, ElectricCar\n",
        "class Vehicle:\n",
        "    def __init__(self, type):\n",
        "        self.type = type\n",
        "\n",
        "class Car(Vehicle):\n",
        "    def __init__(self, type, brand):\n",
        "        super().__init__(type)\n",
        "        self.brand = brand\n",
        "\n",
        "class ElectricCar(Car):\n",
        "    def __init__(self, type, brand, battery):\n",
        "        super().__init__(type, brand)\n",
        "        self.battery = battery\n",
        "\n",
        "# Test\n",
        "electric_car = ElectricCar(\"Electric\", \"Tesla\", \"100kWh\")\n",
        "print(f\"Type: {electric_car.type}, Brand: {electric_car.brand}, Battery: {electric_car.battery}\")"
      ],
      "metadata": {
        "colab": {
          "base_uri": "https://localhost:8080/"
        },
        "id": "i-mijkTaaj2s",
        "outputId": "a86ee5fc-112a-42e4-91b8-3b55052c0b9b"
      },
      "execution_count": 12,
      "outputs": [
        {
          "output_type": "stream",
          "name": "stdout",
          "text": [
            "Type: Electric, Brand: Tesla, Battery: 100kWh\n"
          ]
        }
      ]
    },
    {
      "cell_type": "code",
      "source": [
        "# %%\n",
        "### 4. Polymorphism with Bird, Sparrow, Penguin\n",
        "class Bird:\n",
        "    def fly(self):\n",
        "        print(\"Bird can fly\")\n",
        "\n",
        "class Sparrow(Bird):\n",
        "    def fly(self):\n",
        "        print(\"Sparrow flies fast\")\n",
        "\n",
        "class Penguin(Bird):\n",
        "    def fly(self):\n",
        "        print(\"Penguin cannot fly\")\n",
        "\n",
        "# Test\n",
        "birds = [Bird(), Sparrow(), Penguin()]\n",
        "for bird in birds:\n",
        "    bird.fly()\n"
      ],
      "metadata": {
        "colab": {
          "base_uri": "https://localhost:8080/"
        },
        "id": "9voZudaYbY4C",
        "outputId": "a08d6b5d-cd09-471d-c43f-b22485d370e4"
      },
      "execution_count": 14,
      "outputs": [
        {
          "output_type": "stream",
          "name": "stdout",
          "text": [
            "Bird can fly\n",
            "Sparrow flies fast\n",
            "Penguin cannot fly\n"
          ]
        }
      ]
    },
    {
      "cell_type": "code",
      "source": [
        "# %%\n",
        "### 5. Encapsulation with BankAccount\n",
        "class BankAccount:\n",
        "    def __init__(self):\n",
        "        self.__balance = 0  # Private attribute\n",
        "\n",
        "    def deposit(self, amount):\n",
        "        if amount > 0:\n",
        "            self.__balance += amount\n",
        "            return True\n",
        "        return False\n",
        "\n",
        "    def withdraw(self, amount):\n",
        "        if 0 < amount <= self.__balance:\n",
        "            self.__balance -= amount\n",
        "            return True\n",
        "        return False\n",
        "\n",
        "    def check_balance(self):\n",
        "        return self.__balance\n",
        "\n",
        "# Test\n",
        "account = BankAccount()\n",
        "account.deposit(1000)\n",
        "print(\"Balance after deposit:\", account.check_balance())  # Output: 1000\n",
        "account.withdraw(500)\n",
        "print(\"Balance after withdrawal:\", account.check_balance())  # Output: 500"
      ],
      "metadata": {
        "colab": {
          "base_uri": "https://localhost:8080/"
        },
        "id": "0rQLKuVBbY06",
        "outputId": "540bb069-7392-4253-bc3c-d9945357a0fc"
      },
      "execution_count": 15,
      "outputs": [
        {
          "output_type": "stream",
          "name": "stdout",
          "text": [
            "Balance after deposit: 1000\n",
            "Balance after withdrawal: 500\n"
          ]
        }
      ]
    },
    {
      "cell_type": "code",
      "source": [
        "# %%\n",
        "### 6. Runtime polymorphism with Instrument, Guitar, Piano\n",
        "class Instrument:\n",
        "    def play(self):\n",
        "        print(\"Instrument plays a sound\")\n",
        "\n",
        "class Guitar(Instrument):\n",
        "    def play(self):\n",
        "        print(\"Guitar strums\")\n",
        "\n",
        "class Piano(Instrument):\n",
        "    def play(self):\n",
        "        print(\"Piano keys play\")\n",
        "\n",
        "# Test\n",
        "instruments = [Instrument(), Guitar(), Piano()]\n",
        "for instrument in instruments:\n",
        "    instrument.play()"
      ],
      "metadata": {
        "colab": {
          "base_uri": "https://localhost:8080/"
        },
        "id": "q5NWK3X2bYx8",
        "outputId": "985ceede-1206-49cc-f7e4-c124efcfdfbf"
      },
      "execution_count": 16,
      "outputs": [
        {
          "output_type": "stream",
          "name": "stdout",
          "text": [
            "Instrument plays a sound\n",
            "Guitar strums\n",
            "Piano keys play\n"
          ]
        }
      ]
    },
    {
      "cell_type": "code",
      "source": [
        "# %%\n",
        "### 7. MathOperations with class and static methods\n",
        "class MathOperations:\n",
        "    @classmethod\n",
        "    def add_numbers(cls, a, b):\n",
        "        return a + b\n",
        "\n",
        "    @staticmethod\n",
        "    def subtract_numbers(a, b):\n",
        "        return a - b\n",
        "\n",
        "# Test\n",
        "print(\"Addition:\", MathOperations.add_numbers(5, 3))      # Output: 8\n",
        "print(\"Subtraction:\", MathOperations.subtract_numbers(5, 3))  # Output: 2"
      ],
      "metadata": {
        "colab": {
          "base_uri": "https://localhost:8080/"
        },
        "id": "eT9lyIC_bYua",
        "outputId": "b56ff592-1b64-4e22-f4f5-ca5ec9f37fd3"
      },
      "execution_count": 17,
      "outputs": [
        {
          "output_type": "stream",
          "name": "stdout",
          "text": [
            "Addition: 8\n",
            "Subtraction: 2\n"
          ]
        }
      ]
    },
    {
      "cell_type": "code",
      "source": [
        "# %%\n",
        "### 8. Person class with count of persons\n",
        "class Person:\n",
        "    count = 0\n",
        "\n",
        "    def __init__(self, name):\n",
        "        self.name = name\n",
        "        Person.count += 1\n",
        "\n",
        "    @classmethod\n",
        "    def get_person_count(cls):\n",
        "        return cls.count\n",
        "\n",
        "# Test\n",
        "p1 = Person(\"Alice\")\n",
        "p2 = Person(\"Bob\")\n",
        "print(\"Total persons:\", Person.get_person_count())  # Output: 2"
      ],
      "metadata": {
        "colab": {
          "base_uri": "https://localhost:8080/"
        },
        "id": "Op4LZgVwbYlb",
        "outputId": "9c060ec0-8269-4d88-c2af-86a65e5e992a"
      },
      "execution_count": 18,
      "outputs": [
        {
          "output_type": "stream",
          "name": "stdout",
          "text": [
            "Total persons: 2\n"
          ]
        }
      ]
    },
    {
      "cell_type": "code",
      "source": [
        "# %%\n",
        "### 9. Fraction class with __str__ override\n",
        "class Fraction:\n",
        "    def __init__(self, numerator, denominator):\n",
        "        self.numerator = numerator\n",
        "        self.denominator = denominator\n",
        "\n",
        "    def __str__(self):\n",
        "        return f\"{self.numerator}/{self.denominator}\"\n",
        "\n",
        "# Test\n",
        "f = Fraction(3, 4)\n",
        "print(f)  # Output: 3/4\n"
      ],
      "metadata": {
        "colab": {
          "base_uri": "https://localhost:8080/"
        },
        "id": "UMc6VgfwajxL",
        "outputId": "0e580a9f-6e4a-4b79-fbf0-f02773eaccba"
      },
      "execution_count": 19,
      "outputs": [
        {
          "output_type": "stream",
          "name": "stdout",
          "text": [
            "3/4\n"
          ]
        }
      ]
    },
    {
      "cell_type": "code",
      "source": [
        "# %%\n",
        "### 10. Vector class with operator overloading\n",
        "class Vector:\n",
        "    def __init__(self, x, y):\n",
        "        self.x = x\n",
        "        self.y = y\n",
        "\n",
        "    def __add__(self, other):\n",
        "        return Vector(self.x + other.x, self.y + other.y)\n",
        "\n",
        "    def __str__(self):\n",
        "        return f\"Vector({self.x}, {self.y})\"\n",
        "\n",
        "# Test\n",
        "v1 = Vector(2, 3)\n",
        "v2 = Vector(1, 4)\n",
        "v3 = v1 + v2\n",
        "print(v3)  # Output: Vector(3, 7)\n"
      ],
      "metadata": {
        "colab": {
          "base_uri": "https://localhost:8080/"
        },
        "id": "80OSPwDvajuS",
        "outputId": "89dfdafe-9a6c-44d3-8b24-ceee2c14c32d"
      },
      "execution_count": 20,
      "outputs": [
        {
          "output_type": "stream",
          "name": "stdout",
          "text": [
            "Vector(3, 7)\n"
          ]
        }
      ]
    },
    {
      "cell_type": "code",
      "source": [
        "# %%\n",
        "### 11. Person class with greet method\n",
        "class Person:\n",
        "    def __init__(self, name, age):\n",
        "        self.name = name\n",
        "        self.age = age\n",
        "\n",
        "    def greet(self):\n",
        "        print(f\"Hello, my name is {self.name} and I am {self.age} years old.\")\n",
        "\n",
        "# Test\n",
        "person = Person(\"John\", 30)\n",
        "person.greet()  # Output: Hello, my name is John and I am 30 years old."
      ],
      "metadata": {
        "colab": {
          "base_uri": "https://localhost:8080/"
        },
        "id": "JubY40gHajrS",
        "outputId": "8f42dd41-04ef-446f-f43f-c4e40f68d555"
      },
      "execution_count": 21,
      "outputs": [
        {
          "output_type": "stream",
          "name": "stdout",
          "text": [
            "Hello, my name is John and I am 30 years old.\n"
          ]
        }
      ]
    },
    {
      "cell_type": "code",
      "source": [
        "# %%\n",
        "### 12. Student class with average_grade method\n",
        "class Student:\n",
        "    def __init__(self, name, grades):\n",
        "        self.name = name\n",
        "        self.grades = grades\n",
        "\n",
        "    def average_grade(self):\n",
        "        return sum(self.grades) / len(self.grades)\n",
        "\n",
        "# Test\n",
        "student = Student(\"Emma\", [85, 90, 78, 92])\n",
        "print(f\"{student.name}'s average grade: {student.average_grade()}\")  # Output: Emma's average grade: 86.25\n"
      ],
      "metadata": {
        "colab": {
          "base_uri": "https://localhost:8080/"
        },
        "id": "il_l6L1Majnz",
        "outputId": "658c6856-804c-4ae2-dcfe-47f97f2cd357"
      },
      "execution_count": 22,
      "outputs": [
        {
          "output_type": "stream",
          "name": "stdout",
          "text": [
            "Emma's average grade: 86.25\n"
          ]
        }
      ]
    },
    {
      "cell_type": "code",
      "source": [
        "# %%\n",
        "### 13. Rectangle class with set_dimensions and area methods\n",
        "class Rectangle:\n",
        "    def set_dimensions(self, length, width):\n",
        "        self.length = length\n",
        "        self.width = width\n",
        "\n",
        "    def area(self):\n",
        "        return self.length * self.width\n",
        "\n",
        "# Test\n",
        "rect = Rectangle()\n",
        "rect.set_dimensions(5, 8)\n",
        "print(\"Rectangle area:\", rect.area())  # Output: 40"
      ],
      "metadata": {
        "colab": {
          "base_uri": "https://localhost:8080/"
        },
        "id": "I10mFDAYajk6",
        "outputId": "fc266abd-ebb0-4030-9c7d-2cb48897982a"
      },
      "execution_count": 23,
      "outputs": [
        {
          "output_type": "stream",
          "name": "stdout",
          "text": [
            "Rectangle area: 40\n"
          ]
        }
      ]
    },
    {
      "cell_type": "code",
      "source": [
        "# %%\n",
        "### 14. Employee and Manager classes with salary calculation\n",
        "class Employee:\n",
        "    def __init__(self, hourly_rate):\n",
        "        self.hourly_rate = hourly_rate\n",
        "\n",
        "    def calculate_salary(self, hours_worked):\n",
        "        return self.hourly_rate * hours_worked\n",
        "\n",
        "class Manager(Employee):\n",
        "    def calculate_salary(self, hours_worked):\n",
        "        base_salary = super().calculate_salary(hours_worked)\n",
        "        return base_salary + 1000  # Bonus\n",
        "\n",
        "# Test\n",
        "emp = Employee(20)\n",
        "print(\"Employee salary:\", emp.calculate_salary(40))  # Output: 800\n",
        "\n",
        "mgr = Manager(25)\n",
        "print(\"Manager salary:\", mgr.calculate_salary(40))  # Output: 2000"
      ],
      "metadata": {
        "colab": {
          "base_uri": "https://localhost:8080/"
        },
        "id": "ymY1bD9fajc6",
        "outputId": "8f284864-87a5-48a6-dd30-ce0eb34be8b2"
      },
      "execution_count": 24,
      "outputs": [
        {
          "output_type": "stream",
          "name": "stdout",
          "text": [
            "Employee salary: 800\n",
            "Manager salary: 2000\n"
          ]
        }
      ]
    },
    {
      "cell_type": "code",
      "source": [
        "# %%\n",
        "### 15. Product class with total_price method\n",
        "class Product:\n",
        "    def __init__(self, name, price, quantity):\n",
        "        self.name = name\n",
        "        self.price = price\n",
        "        self.quantity = quantity\n",
        "\n",
        "    def total_price(self):\n",
        "        return self.price * self.quantity\n",
        "\n",
        "# Test\n",
        "product = Product(\"Laptop\", 1000, 3)\n",
        "print(\"Total price:\", product.total_price())  # Output: 3000"
      ],
      "metadata": {
        "colab": {
          "base_uri": "https://localhost:8080/"
        },
        "id": "baBzkNdhcniK",
        "outputId": "eea6c549-4909-4391-956b-74c334b7889a"
      },
      "execution_count": 26,
      "outputs": [
        {
          "output_type": "stream",
          "name": "stdout",
          "text": [
            "Total price: 3000\n"
          ]
        }
      ]
    },
    {
      "cell_type": "code",
      "source": [
        "# %%\n",
        "### 16. Animal abstract class with Cow and Sheep\n",
        "from abc import ABC, abstractmethod\n",
        "\n",
        "class Animal(ABC):\n",
        "    @abstractmethod\n",
        "    def sound(self):\n",
        "        pass\n",
        "\n",
        "class Cow(Animal):\n",
        "    def sound(self):\n",
        "        print(\"Moo\")\n",
        "\n",
        "class Sheep(Animal):\n",
        "    def sound(self):\n",
        "        print(\"Baa\")\n",
        "\n",
        "# Test\n",
        "cow = Cow()\n",
        "sheep = Sheep()\n",
        "cow.sound()   # Output: Moo\n",
        "sheep.sound() # Output: Baa"
      ],
      "metadata": {
        "colab": {
          "base_uri": "https://localhost:8080/"
        },
        "id": "2J35Ye8ccs1C",
        "outputId": "0ae60c1d-7a7a-40c5-a606-d706c8b8d650"
      },
      "execution_count": 27,
      "outputs": [
        {
          "output_type": "stream",
          "name": "stdout",
          "text": [
            "Moo\n",
            "Baa\n"
          ]
        }
      ]
    },
    {
      "cell_type": "code",
      "source": [
        "# %%\n",
        "### 17. Book class with get_book_info method\n",
        "class Book:\n",
        "    def __init__(self, title, author, year_published):\n",
        "        self.title = title\n",
        "        self.author = author\n",
        "        self.year_published = year_published\n",
        "\n",
        "    def get_book_info(self):\n",
        "        return f\"'{self.title}' by {self.author}, published in {self.year_published}\"\n",
        "\n",
        "# Test\n",
        "book = Book(\"Python Crash Course\", \"Eric Matthes\", 2015)\n",
        "print(book.get_book_info())\n"
      ],
      "metadata": {
        "colab": {
          "base_uri": "https://localhost:8080/"
        },
        "id": "KNnXaH54c2cq",
        "outputId": "5d0614b3-da22-4a98-9459-a38545004978"
      },
      "execution_count": 28,
      "outputs": [
        {
          "output_type": "stream",
          "name": "stdout",
          "text": [
            "'Python Crash Course' by Eric Matthes, published in 2015\n"
          ]
        }
      ]
    },
    {
      "cell_type": "code",
      "source": [
        "# %%\n",
        "### 18. House and Mansion classes\n",
        "class House:\n",
        "    def __init__(self, address, price):\n",
        "        self.address = address\n",
        "        self.price = price\n",
        "\n",
        "class Mansion(House):\n",
        "    def __init__(self, address, price, number_of_rooms):\n",
        "        super().__init__(address, price)\n",
        "        self.number_of_rooms = number_of_rooms\n",
        "\n",
        "# Test\n",
        "mansion = Mansion(\"123 Rich St\", 2500000, 12)\n",
        "print(f\"Address: {mansion.address}, Price: ${mansion.price:,}, Rooms: {mansion.number_of_rooms}\")"
      ],
      "metadata": {
        "colab": {
          "base_uri": "https://localhost:8080/"
        },
        "id": "2qUH5yZFc2Sa",
        "outputId": "5f1efa9e-7517-4eb4-be9d-4c1077fbbb2b"
      },
      "execution_count": 29,
      "outputs": [
        {
          "output_type": "stream",
          "name": "stdout",
          "text": [
            "Address: 123 Rich St, Price: $2,500,000, Rooms: 12\n"
          ]
        }
      ]
    }
  ]
}